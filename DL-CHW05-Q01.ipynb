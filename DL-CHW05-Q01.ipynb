{
 "cells": [
  {
   "cell_type": "markdown",
   "metadata": {
    "id": "2Vn26lahhFJd"
   },
   "source": [
    "# Variational AutoEncoders\n",
    "\n",
    "Full Name: Mohammad Morsali\n",
    "\n",
    "Student ID: 400101956"
   ]
  },
  {
   "cell_type": "markdown",
   "metadata": {
    "id": "VJZ8AefthL95"
   },
   "source": [
    "\n",
    "# Variational Autoencoder\n",
    "\n",
    "In this notebook, you will implement a variational autoencoder and a conditional variational autoencoder with slightly different architectures and apply them to the popular MNIST handwritten dataset."
   ]
  },
  {
   "cell_type": "markdown",
   "metadata": {
    "id": "JuIiv2bhjFoC"
   },
   "source": [
    "Load several useful packages that are used in this notebook:"
   ]
  },
  {
   "cell_type": "code",
   "execution_count": 2,
   "metadata": {
    "execution": {
     "iopub.execute_input": "2025-01-26T14:33:00.909307Z",
     "iopub.status.busy": "2025-01-26T14:33:00.909019Z",
     "iopub.status.idle": "2025-01-26T14:33:00.917059Z",
     "shell.execute_reply": "2025-01-26T14:33:00.916143Z",
     "shell.execute_reply.started": "2025-01-26T14:33:00.909285Z"
    },
    "id": "sLdT7GSljI0f",
    "trusted": true
   },
   "outputs": [],
   "source": [
    "import math\n",
    "import torch\n",
    "import torch.nn as nn\n",
    "import torch.nn.functional as F\n",
    "from torch.nn import init\n",
    "import torchvision\n",
    "import torchvision.transforms as T\n",
    "import torch.optim as optim\n",
    "from torch.utils.data import DataLoader\n",
    "from torch.utils.data import sampler\n",
    "import torchvision.datasets as datasets\n",
    "import random\n",
    "import cv2\n",
    "import matplotlib as mpl\n",
    "import numpy as np\n",
    "from torchvision.utils import make_grid\n",
    "import matplotlib.pyplot as plt\n",
    "import matplotlib.gridspec as gridspec\n",
    "%matplotlib inline\n",
    "device = torch.device(\"cuda\" if torch.cuda.is_available() else \"cpu\")\n",
    "# for plotting\n",
    "plt.rcParams['figure.figsize'] = (10.0, 8.0)\n",
    "plt.rcParams['font.size'] = 16\n",
    "plt.rcParams['image.interpolation'] = 'nearest'\n",
    "plt.rcParams['image.cmap'] = 'gray'"
   ]
  },
  {
   "cell_type": "markdown",
   "metadata": {
    "id": "_nqWhiLojS8M"
   },
   "source": [
    "We will use GPUs to accelerate our computation in this notebook. Run the following to make sure GPUs are enabled:"
   ]
  },
  {
   "cell_type": "code",
   "execution_count": 3,
   "metadata": {
    "execution": {
     "iopub.execute_input": "2025-01-26T14:33:03.507078Z",
     "iopub.status.busy": "2025-01-26T14:33:03.506784Z",
     "iopub.status.idle": "2025-01-26T14:33:03.511864Z",
     "shell.execute_reply": "2025-01-26T14:33:03.510968Z",
     "shell.execute_reply.started": "2025-01-26T14:33:03.507056Z"
    },
    "id": "RdQhVgi5jVQp",
    "trusted": true
   },
   "outputs": [
    {
     "name": "stdout",
     "output_type": "stream",
     "text": [
      "Good to go!\n"
     ]
    }
   ],
   "source": [
    "if torch.cuda.is_available():\n",
    "    print('Good to go!')\n",
    "else:\n",
    "    print('Please set GPU via Edit -> Notebook Settings.')"
   ]
  },
  {
   "cell_type": "markdown",
   "metadata": {
    "id": "bcqRQILRjchz"
   },
   "source": [
    "## Load MNIST Dataset\n",
    "\n",
    "\n",
    "VAEs are notoriously finicky with hyperparameters, and also require many training epochs. In order to make this assignment approachable, we will be working on the MNIST dataset, which has 60,000 training and 10,000 test images. Each picture contains a centered image of white digit on black background (0 through 9). This was one of the first datasets used to train convolutional neural networks and it is fairly easy -- a standard CNN model can easily exceed 99% accuracy.\n",
    "\n",
    "To simplify our code here, we will use the PyTorch MNIST wrapper, which downloads and loads the MNIST dataset."
   ]
  },
  {
   "cell_type": "code",
   "execution_count": 4,
   "metadata": {
    "execution": {
     "iopub.execute_input": "2025-01-26T14:33:05.617410Z",
     "iopub.status.busy": "2025-01-26T14:33:05.617126Z",
     "iopub.status.idle": "2025-01-26T14:33:10.290032Z",
     "shell.execute_reply": "2025-01-26T14:33:10.289066Z",
     "shell.execute_reply.started": "2025-01-26T14:33:05.617389Z"
    },
    "id": "mExnwvTXjcF_",
    "trusted": true
   },
   "outputs": [
    {
     "name": "stdout",
     "output_type": "stream",
     "text": [
      "Downloading http://yann.lecun.com/exdb/mnist/train-images-idx3-ubyte.gz\n",
      "Failed to download (trying next):\n",
      "<urlopen error [Errno 111] Connection refused>\n",
      "\n",
      "Downloading https://ossci-datasets.s3.amazonaws.com/mnist/train-images-idx3-ubyte.gz\n",
      "Downloading https://ossci-datasets.s3.amazonaws.com/mnist/train-images-idx3-ubyte.gz to ./MNIST_data/MNIST/raw/train-images-idx3-ubyte.gz\n"
     ]
    },
    {
     "name": "stderr",
     "output_type": "stream",
     "text": [
      "100%|██████████| 9.91M/9.91M [00:00<00:00, 11.5MB/s]\n"
     ]
    },
    {
     "name": "stdout",
     "output_type": "stream",
     "text": [
      "Extracting ./MNIST_data/MNIST/raw/train-images-idx3-ubyte.gz to ./MNIST_data/MNIST/raw\n",
      "\n",
      "Downloading http://yann.lecun.com/exdb/mnist/train-labels-idx1-ubyte.gz\n",
      "Failed to download (trying next):\n",
      "<urlopen error [Errno 111] Connection refused>\n",
      "\n",
      "Downloading https://ossci-datasets.s3.amazonaws.com/mnist/train-labels-idx1-ubyte.gz\n",
      "Downloading https://ossci-datasets.s3.amazonaws.com/mnist/train-labels-idx1-ubyte.gz to ./MNIST_data/MNIST/raw/train-labels-idx1-ubyte.gz\n"
     ]
    },
    {
     "name": "stderr",
     "output_type": "stream",
     "text": [
      "100%|██████████| 28.9k/28.9k [00:00<00:00, 342kB/s]\n"
     ]
    },
    {
     "name": "stdout",
     "output_type": "stream",
     "text": [
      "Extracting ./MNIST_data/MNIST/raw/train-labels-idx1-ubyte.gz to ./MNIST_data/MNIST/raw\n",
      "\n",
      "Downloading http://yann.lecun.com/exdb/mnist/t10k-images-idx3-ubyte.gz\n",
      "Failed to download (trying next):\n",
      "<urlopen error [Errno 111] Connection refused>\n",
      "\n",
      "Downloading https://ossci-datasets.s3.amazonaws.com/mnist/t10k-images-idx3-ubyte.gz\n",
      "Downloading https://ossci-datasets.s3.amazonaws.com/mnist/t10k-images-idx3-ubyte.gz to ./MNIST_data/MNIST/raw/t10k-images-idx3-ubyte.gz\n"
     ]
    },
    {
     "name": "stderr",
     "output_type": "stream",
     "text": [
      "100%|██████████| 1.65M/1.65M [00:00<00:00, 3.23MB/s]\n"
     ]
    },
    {
     "name": "stdout",
     "output_type": "stream",
     "text": [
      "Extracting ./MNIST_data/MNIST/raw/t10k-images-idx3-ubyte.gz to ./MNIST_data/MNIST/raw\n",
      "\n",
      "Downloading http://yann.lecun.com/exdb/mnist/t10k-labels-idx1-ubyte.gz\n",
      "Failed to download (trying next):\n",
      "<urlopen error [Errno 111] Connection refused>\n",
      "\n",
      "Downloading https://ossci-datasets.s3.amazonaws.com/mnist/t10k-labels-idx1-ubyte.gz\n",
      "Downloading https://ossci-datasets.s3.amazonaws.com/mnist/t10k-labels-idx1-ubyte.gz to ./MNIST_data/MNIST/raw/t10k-labels-idx1-ubyte.gz\n"
     ]
    },
    {
     "name": "stderr",
     "output_type": "stream",
     "text": [
      "100%|██████████| 4.54k/4.54k [00:00<00:00, 6.96MB/s]"
     ]
    },
    {
     "name": "stdout",
     "output_type": "stream",
     "text": [
      "Extracting ./MNIST_data/MNIST/raw/t10k-labels-idx1-ubyte.gz to ./MNIST_data/MNIST/raw\n",
      "\n"
     ]
    },
    {
     "name": "stderr",
     "output_type": "stream",
     "text": [
      "\n"
     ]
    }
   ],
   "source": [
    "batch_size = 128\n",
    "\n",
    "mnist_train = datasets.MNIST('./MNIST_data', train=True, download=True,\n",
    "                           transform=T.ToTensor())\n",
    "loader_train = DataLoader(mnist_train, batch_size=batch_size,\n",
    "                          shuffle=True, drop_last=True, num_workers=2)\n"
   ]
  },
  {
   "cell_type": "markdown",
   "metadata": {
    "id": "CwDmYBjdhTrM"
   },
   "source": [
    "## Visualize dataset"
   ]
  },
  {
   "cell_type": "markdown",
   "metadata": {
    "id": "Q2X_21cTwsox"
   },
   "source": [
    "It is always a good idea to look at examples from the dataset before working with it. Let's visualize the digits in the MNIST dataset. We have defined the function `show_images` to visualize the images.\n"
   ]
  },
  {
   "cell_type": "code",
   "execution_count": 5,
   "metadata": {
    "execution": {
     "iopub.execute_input": "2025-01-26T14:33:10.291613Z",
     "iopub.status.busy": "2025-01-26T14:33:10.291260Z",
     "iopub.status.idle": "2025-01-26T14:33:13.647304Z",
     "shell.execute_reply": "2025-01-26T14:33:13.646310Z",
     "shell.execute_reply.started": "2025-01-26T14:33:10.291577Z"
    },
    "id": "3JMbbxMkwrYg",
    "trusted": true
   },
   "outputs": [
    {
     "data": {
      "image/png": "[encoded data removed]",
      "text/plain": [
       "<Figure size 1200x1200 with 128 Axes>"
      ]
     },
     "metadata": {},
     "output_type": "display_data"
    }
   ],
   "source": [
    "def show_images(images):\n",
    "    images = torch.reshape(\n",
    "        images, [images.shape[0], -1]\n",
    "    )\n",
    "    sqrtn = int(math.ceil(math.sqrt(images.shape[0])))\n",
    "    sqrtimg = int(math.ceil(math.sqrt(images.shape[1])))\n",
    "\n",
    "    fig = plt.figure(figsize=(sqrtn, sqrtn))\n",
    "    gs = gridspec.GridSpec(sqrtn, sqrtn)\n",
    "    gs.update(wspace=0.05, hspace=0.05)\n",
    "\n",
    "    for i, img in enumerate(images):\n",
    "        ax = plt.subplot(gs[i])\n",
    "        plt.axis(\"off\")\n",
    "        ax.set_xticklabels([])\n",
    "        ax.set_yticklabels([])\n",
    "        ax.set_aspect(\"equal\")\n",
    "        plt.imshow(img.reshape([sqrtimg, sqrtimg]))\n",
    "    return\n",
    "\n",
    "data_iter = iter(loader_train)\n",
    "imgs, _ = next(data_iter)\n",
    "imgs = imgs.view(batch_size, 784)\n",
    "show_images(imgs)"
   ]
  },
  {
   "cell_type": "markdown",
   "metadata": {
    "id": "tOdQ3r5diEwr"
   },
   "source": [
    "# Fully Connected VAE\n",
    "\n",
    "Your first VAE implementation will consist solely of fully connected layers. You'll take the `1 x 28 x 28` shape of our input and flatten the features to create an input dimension size of 784. In this section you'll define the Encoder and Decoder models in the VAE class and implement the reparametrization trick, forward pass, and loss function to train your first VAE."
   ]
  },
  {
   "cell_type": "markdown",
   "metadata": {
    "id": "XOfC7oDrkUhl"
   },
   "source": [
    "## FC-VAE Forward\n",
    "\n",
    "Complete the VAE class by writing the initialization and the forward pass. The forward pass should pass the input image through the encoder to calculate the estimation of mu and logvar, reparametrize to estimate the latent space z, and finally pass z into the decoder to generate an image.\n",
    "\n"
   ]
  },
  {
   "cell_type": "code",
   "execution_count": 6,
   "metadata": {
    "execution": {
     "iopub.execute_input": "2025-01-26T14:33:13.649312Z",
     "iopub.status.busy": "2025-01-26T14:33:13.648947Z",
     "iopub.status.idle": "2025-01-26T14:33:13.657339Z",
     "shell.execute_reply": "2025-01-26T14:33:13.656290Z",
     "shell.execute_reply.started": "2025-01-26T14:33:13.649276Z"
    },
    "id": "Wg7Yk0ODjWPa",
    "trusted": true
   },
   "outputs": [],
   "source": [
    "class VAE_MLP(nn.Module):\n",
    "    def __init__(self, input_dim, hidden_dim, latent_dim, device):\n",
    "        super(VAE_MLP, self).__init__()\n",
    "        # TODO: Define the architecture of the encoder and decoder\n",
    "        \n",
    "        # Encoder: we add two fully-connected layers with ReLU + optional BatchNorm for stability\n",
    "        self.encoder = nn.Sequential(\n",
    "            # TODO: Add layers for the encoder\n",
    "            nn.Linear(input_dim, hidden_dim),\n",
    "            nn.ReLU(),\n",
    "            nn.BatchNorm1d(hidden_dim), \n",
    "            nn.Linear(hidden_dim, hidden_dim),\n",
    "            nn.ReLU(),\n",
    "        )\n",
    "\n",
    "        # Two separate fully-connected layers for μ and log(σ^2)\n",
    "        self.fc_mu = nn.Linear(hidden_dim, latent_dim)     \n",
    "        self.fc_logvar = nn.Linear(hidden_dim, latent_dim) \n",
    "\n",
    "        # Decoder: symmetric MLP layers with ReLU + optional BatchNorm\n",
    "        self.decoder = nn.Sequential(\n",
    "            # TODO: Add layers for the decoder\n",
    "            nn.Linear(latent_dim, hidden_dim),\n",
    "            nn.ReLU(),\n",
    "            nn.BatchNorm1d(hidden_dim), \n",
    "            nn.Linear(hidden_dim, hidden_dim),\n",
    "            nn.ReLU(),\n",
    "            nn.Linear(hidden_dim, input_dim),\n",
    "            nn.Sigmoid(),  # Sigmoid for output in [0, 1], suitable for image pixel reconstruction\n",
    "        )\n",
    "\n",
    "        # Store device to place tensors\n",
    "        self.device = device\n",
    "\n",
    "    def reparameterize(self, mu, logvar):\n",
    "        # TODO: Implement the reparameterization trick\n",
    "        # std = exp(0.5 * logvar), sample epsilon ~ N(0, 1), then z = mu + epsilon * std\n",
    "        std_dev = torch.exp(0.5 * logvar)\n",
    "        epsilon = torch.randn_like(std_dev).to(self.device)\n",
    "        z = mu + epsilon * std_dev\n",
    "        return z\n",
    "\n",
    "    def forward(self, x):\n",
    "        # TODO: Implement the forward pass\n",
    "        \n",
    "        # Flatten input and move to device\n",
    "        x = x.view(x.size(0), -1).to(self.device)\n",
    "        \n",
    "        # Encode input\n",
    "        encoded_data = self.encoder(x)\n",
    "        \n",
    "        # Obtain parameters for the latent distribution\n",
    "        mean_val = self.fc_mu(encoded_data)\n",
    "        log_variance = self.fc_logvar(encoded_data)\n",
    "        \n",
    "        # Sample from the latent space via reparameterization\n",
    "        latent_sample = self.reparameterize(mean_val, log_variance)\n",
    "        \n",
    "        # Decode to reconstruct\n",
    "        reconstruction = self.decoder(latent_sample)\n",
    "        \n",
    "        # Return reconstruction and the distribution parameters\n",
    "        return reconstruction, mean_val, log_variance\n"
   ]
  },
  {
   "cell_type": "markdown",
   "metadata": {
    "id": "qfNOoeJ3qPtR"
   },
   "source": [
    "## Loss Function\n",
    "\n",
    "Complete the vae_loss function below"
   ]
  },
  {
   "cell_type": "code",
   "execution_count": 7,
   "metadata": {
    "execution": {
     "iopub.execute_input": "2025-01-26T14:33:15.854874Z",
     "iopub.status.busy": "2025-01-26T14:33:15.854552Z",
     "iopub.status.idle": "2025-01-26T14:33:15.859854Z",
     "shell.execute_reply": "2025-01-26T14:33:15.859099Z",
     "shell.execute_reply.started": "2025-01-26T14:33:15.854847Z"
    },
    "id": "vF2ZUj2FjrFa",
    "trusted": true
   },
   "outputs": [],
   "source": [
    "def vae_loss(recon, data, mu, logvar):\n",
    "    # TODO: Implement the reconstruction loss\n",
    "    # Flatten data to match the shape of recon (batch_size, input_dim)\n",
    "    data_flattened = data.view(data.size(0), -1)\n",
    "    # We use binary cross-entropy for reconstruction\n",
    "    reconstruction_error = F.binary_cross_entropy(recon, data_flattened, reduction='sum')\n",
    "\n",
    "    # TODO: Implement the KL divergence loss\n",
    "    kl_divergence = -0.5 * torch.sum(1 + logvar - mu.pow(2) - logvar.exp())\n",
    "\n",
    "    # TODO: Return the total loss as the sum of reconstruction and KL divergence losses\n",
    "    total_loss = reconstruction_error + kl_divergence\n",
    "    return total_loss\n"
   ]
  },
  {
   "cell_type": "markdown",
   "metadata": {
    "id": "wV8fbzenkAXm"
   },
   "source": [
    "\n",
    "## Train a model\n",
    "\n",
    "Now that we have our VAE defined and loss function ready, lets train our model!\n",
    "\n",
    "Complete the train_vae_mlp function to train the network."
   ]
  },
  {
   "cell_type": "code",
   "execution_count": 8,
   "metadata": {
    "execution": {
     "iopub.execute_input": "2025-01-26T14:33:19.612869Z",
     "iopub.status.busy": "2025-01-26T14:33:19.612537Z",
     "iopub.status.idle": "2025-01-26T14:35:48.880296Z",
     "shell.execute_reply": "2025-01-26T14:35:48.879358Z",
     "shell.execute_reply.started": "2025-01-26T14:33:19.612844Z"
    },
    "id": "aOc6Z94M3AbP",
    "trusted": true
   },
   "outputs": [
    {
     "name": "stdout",
     "output_type": "stream",
     "text": [
      "\n",
      "=============================================\n",
      "VAE- Epoch [1/30], Loss: 17204.882476545805\n",
      "\n",
      "=============================================\n",
      "VAE- Epoch [2/30], Loss: 14314.369843833467\n",
      "\n",
      "=============================================\n",
      "VAE- Epoch [3/30], Loss: 13932.238247863248\n",
      "\n",
      "=============================================\n",
      "VAE- Epoch [4/30], Loss: 13712.724676148504\n",
      "\n",
      "=============================================\n",
      "VAE- Epoch [5/30], Loss: 13579.978256877672\n",
      "\n",
      "=============================================\n",
      "VAE- Epoch [6/30], Loss: 13451.169967781785\n",
      "\n",
      "=============================================\n",
      "VAE- Epoch [7/30], Loss: 13356.811250083467\n",
      "\n",
      "=============================================\n",
      "VAE- Epoch [8/30], Loss: 13284.318887303018\n",
      "\n",
      "=============================================\n",
      "VAE- Epoch [9/30], Loss: 13225.95633638822\n",
      "\n",
      "=============================================\n",
      "VAE- Epoch [10/30], Loss: 13166.48499891493\n",
      "\n",
      "=============================================\n",
      "VAE- Epoch [11/30], Loss: 13108.88957540398\n",
      "\n",
      "=============================================\n",
      "VAE- Epoch [12/30], Loss: 13071.430405315172\n",
      "\n",
      "=============================================\n",
      "VAE- Epoch [13/30], Loss: 13039.20154538929\n",
      "\n",
      "=============================================\n",
      "VAE- Epoch [14/30], Loss: 12993.88372646234\n",
      "\n",
      "=============================================\n",
      "VAE- Epoch [15/30], Loss: 12962.949007996127\n",
      "\n",
      "=============================================\n",
      "VAE- Epoch [16/30], Loss: 12926.058670956865\n",
      "\n",
      "=============================================\n",
      "VAE- Epoch [17/30], Loss: 12900.592022235576\n",
      "\n",
      "=============================================\n",
      "VAE- Epoch [18/30], Loss: 12883.734537760416\n",
      "\n",
      "=============================================\n",
      "VAE- Epoch [19/30], Loss: 12852.84004198384\n",
      "\n",
      "=============================================\n",
      "VAE- Epoch [20/30], Loss: 12832.12003372062\n",
      "\n",
      "=============================================\n",
      "VAE- Epoch [21/30], Loss: 12802.051108857506\n",
      "\n",
      "=============================================\n",
      "VAE- Epoch [22/30], Loss: 12796.121734358307\n",
      "\n",
      "=============================================\n",
      "VAE- Epoch [23/30], Loss: 12763.87435521835\n",
      "\n",
      "=============================================\n",
      "VAE- Epoch [24/30], Loss: 12748.194482004541\n",
      "\n",
      "=============================================\n",
      "VAE- Epoch [25/30], Loss: 12720.622815254406\n",
      "\n",
      "=============================================\n",
      "VAE- Epoch [26/30], Loss: 12714.032483223156\n",
      "\n",
      "=============================================\n",
      "VAE- Epoch [27/30], Loss: 12696.46586204594\n",
      "\n",
      "=============================================\n",
      "VAE- Epoch [28/30], Loss: 12676.970185630342\n",
      "\n",
      "=============================================\n",
      "VAE- Epoch [29/30], Loss: 12669.084973457531\n",
      "\n",
      "=============================================\n",
      "VAE- Epoch [30/30], Loss: 12650.51564586672\n"
     ]
    }
   ],
   "source": [
    "def train_vae_mlp(model, train_loader, num_epochs=30, learning_rate=1e-3):\n",
    "    model.train()  \n",
    "    optimizer = optim.Adam(model.parameters(), lr=learning_rate)  \n",
    "    device = torch.device('cuda' if torch.cuda.is_available() else 'cpu') \n",
    "    model.to(device)\n",
    "\n",
    "    for epoch in range(num_epochs):\n",
    "        print()\n",
    "        print(45 * \"=\")\n",
    "        total_loss = []\n",
    "        for batch_idx, (data, _) in enumerate(train_loader):\n",
    "            # TODO: Forward process\n",
    "        \n",
    "            data = data.to(device)\n",
    "\n",
    "            # Zero out gradients before backprop\n",
    "            optimizer.zero_grad()\n",
    "\n",
    "            # Model forward pass: returns reconstructed data + latent params\n",
    "            recon, mu, logvar = model(data)\n",
    "\n",
    "            # TODO: Flatten the data and recon tensors\n",
    "\n",
    "            # data_flat = data.view(data.size(0), -1)\n",
    "            # recon_flat = recon.view(recon.size(0), -1)\n",
    "\n",
    "            # TODO: Calculate the loss using the vae_loss function\n",
    "\n",
    "            loss = vae_loss(recon, data, mu, logvar) \n",
    "\n",
    "            # TODO: Backpropagation and optimization step\n",
    "            loss.backward()\n",
    "            optimizer.step()\n",
    "\n",
    "            total_loss.append(loss.item())\n",
    "\n",
    "        avg_loss = float(sum(total_loss) / len(total_loss))\n",
    "        print(f'VAE- Epoch [{epoch+1}/{num_epochs}], Loss: {avg_loss}')  \n",
    "\n",
    "# TODO: Train VAE\n",
    "latent_size = 20  # Example assignment for latent_size\n",
    "device = torch.device('cuda' if torch.cuda.is_available() else 'cpu')\n",
    "\n",
    "batch_size = 128\n",
    "mnist_train = datasets.MNIST(\n",
    "    root='./MNIST_data',\n",
    "    train=True,\n",
    "    download=True,\n",
    "    transform=T.ToTensor()\n",
    ")\n",
    "loader_train = DataLoader(\n",
    "    mnist_train,\n",
    "    batch_size=batch_size,\n",
    "    shuffle=True,\n",
    "    drop_last=True,\n",
    "    num_workers=2\n",
    ")\n",
    "\n",
    "VAE = VAE_MLP(\n",
    "    input_dim=28 * 28,\n",
    "    hidden_dim=512,\n",
    "    latent_dim=latent_size,\n",
    "    device=device\n",
    ")\n",
    "\n",
    "train_vae_mlp(VAE, loader_train)\n"
   ]
  },
  {
   "cell_type": "markdown",
   "metadata": {
    "id": "JT6Ek-26jjJD"
   },
   "source": [
    "## Visualize results\n",
    "\n",
    "After training our VAE network, we're able to take advantage of its power to generate new training examples. This process simply involves the decoder: we intialize some random distribution for our latent spaces z, and generate new examples by passing these latent space into the decoder.\n",
    "\n",
    "Run the cell below to generate new images! You should be able to visually recognize many of the digits, although some may be a bit blurry or badly formed. Our next model will see improvement in these results."
   ]
  },
  {
   "cell_type": "code",
   "execution_count": 43,
   "metadata": {
    "execution": {
     "iopub.execute_input": "2025-01-26T14:38:39.640639Z",
     "iopub.status.busy": "2025-01-26T14:38:39.640308Z",
     "iopub.status.idle": "2025-01-26T14:38:39.895367Z",
     "shell.execute_reply": "2025-01-26T14:38:39.894342Z",
     "shell.execute_reply.started": "2025-01-26T14:38:39.640612Z"
    },
    "id": "RhhrsgrMTyTi",
    "trusted": true
   },
   "outputs": [
    {
     "data": {
      "image/png": "[encoded data removed]",
      "text/plain": [
       "<Figure size 1000x100 with 10 Axes>"
      ]
     },
     "metadata": {},
     "output_type": "display_data"
    }
   ],
   "source": [
    "num_samples = 10\n",
    "z = torch.randn(num_samples, latent_size).to(device=device)\n",
    "\n",
    "VAE.eval()\n",
    "samples = VAE.decoder(z).data.cpu().numpy()\n",
    "\n",
    "fig = plt.figure(figsize=(num_samples, 1))\n",
    "gspec = gridspec.GridSpec(1, num_samples)\n",
    "gspec.update(wspace=0.05, hspace=0.05)\n",
    "for i, sample in enumerate(samples):\n",
    "    ax = plt.subplot(gspec[i])\n",
    "    plt.axis('off')\n",
    "    if i == 4:\n",
    "      plt.title('Generated Samples of VAE')\n",
    "    ax.set_xticklabels([])\n",
    "    ax.set_yticklabels([])\n",
    "    ax.set_aspect('equal')\n",
    "    plt.imshow(sample.reshape(28,28), cmap='Greys_r')"
   ]
  },
  {
   "cell_type": "markdown",
   "metadata": {
    "id": "wzS_ufzEkhah"
   },
   "source": [
    "# Conditional FC-VAE\n",
    "\n",
    "The second model you'll develop will be very similar to the FC-VAE, but with a slight conditional twist to it. We'll use what we know about the labels of each MNIST image, and *condition* our latent space and image generation on the specific class. Instead of $q_{\\phi} (z|x)$ and $p_{\\phi}(x|z)$ we have $q_{\\phi} (z|x,c)$  and $p_{\\phi}(x|z, c)$\n",
    "\n",
    "This will allow us to do some powerful conditional generation at inference time. We can specifically choose to generate more 1s, 2s, 9s, etc. instead of simply generating new digits randomly."
   ]
  },
  {
   "cell_type": "markdown",
   "metadata": {
    "id": "hle0JuhwklKc"
   },
   "source": [
    "## Define Network with class input\n",
    "\n",
    "Your CVAE architecture should be the same as your FC-VAE architecture, except you'll now concatenate a one-hot label vector to both the x input (in our case, the flattened image dimensions) and the z latent space.\n",
    "\n",
    "If the one-hot vector is called `c`, then `c[label] = 1` and `c = 0` elsewhere.\n",
    "\n",
    "For the `CVAE_MLP` class use the same FC-VAE architecture implemented in the last network.\n"
   ]
  },
  {
   "cell_type": "code",
   "execution_count": 44,
   "metadata": {
    "execution": {
     "iopub.execute_input": "2025-01-26T14:38:54.408334Z",
     "iopub.status.busy": "2025-01-26T14:38:54.408038Z",
     "iopub.status.idle": "2025-01-26T14:38:54.416239Z",
     "shell.execute_reply": "2025-01-26T14:38:54.415397Z",
     "shell.execute_reply.started": "2025-01-26T14:38:54.408312Z"
    },
    "id": "iGox0wzC-NWJ",
    "trusted": true
   },
   "outputs": [],
   "source": [
    "import torch\n",
    "import torch.nn as nn\n",
    "import torch.nn.functional as F\n",
    "\n",
    "\n",
    "class CVAE_MLP(nn.Module):\n",
    "    def __init__(self, input_dim, hidden_dim, latent_dim, num_classes, device):\n",
    "        super(CVAE_MLP, self).__init__()\n",
    "        # TODO: Define the architecture of the encoder\n",
    "        \n",
    "        self.encoder = nn.Sequential(\n",
    "            # TODO: Add layers for the encoder\n",
    "            nn.Linear(input_dim + num_classes, hidden_dim),\n",
    "            nn.ReLU(),\n",
    "            nn.BatchNorm1d(hidden_dim),   \n",
    "            nn.Linear(hidden_dim, hidden_dim),\n",
    "            nn.ReLU(),\n",
    "        )\n",
    "\n",
    "        self.fc_mu = nn.Linear(hidden_dim, latent_dim)     \n",
    "        self.fc_logvar = nn.Linear(hidden_dim, latent_dim)  \n",
    "        self.fc_class = nn.Linear(hidden_dim, num_classes)  \n",
    "\n",
    "        # TODO: Define the architecture of the decoder\n",
    "        self.decoder = nn.Sequential(\n",
    "            # TODO: Add layers for the decoder\n",
    "            nn.Linear(latent_dim + num_classes, hidden_dim),\n",
    "            nn.ReLU(),\n",
    "            nn.BatchNorm1d(hidden_dim),  \n",
    "            nn.Linear(hidden_dim, hidden_dim),\n",
    "            nn.ReLU(),\n",
    "            nn.Linear(hidden_dim, input_dim),\n",
    "            nn.Sigmoid(),  # Output in [0, 1] for image pixel reconstruction\n",
    "        )\n",
    "\n",
    "        # Store the device for later use\n",
    "        self.device = device\n",
    "\n",
    "    def reparameterize(self, mu, logvar):\n",
    "        # TODO: Implement the reparameterization trick\n",
    "        # z = mu + sigma * epsilon, where sigma = exp(0.5*logvar) and epsilon ~ N(0, I)\n",
    "        std_dev = torch.exp(0.5 * logvar)\n",
    "        epsilon = torch.randn_like(std_dev).to(self.device)\n",
    "        return mu + epsilon * std_dev\n",
    "\n",
    "    def forward(self, x, y):\n",
    "        # 1) Flatten and concat x, y\n",
    "        x = x.view(x.size(0), -1)\n",
    "        y = y.view(y.size(0), -1)\n",
    "        xy_input = torch.cat([x, y], dim=1)\n",
    "    \n",
    "        # 2) Encode\n",
    "        encoded_data = self.encoder(xy_input)\n",
    "        mean_val = self.fc_mu(encoded_data)\n",
    "        log_variance = self.fc_logvar(encoded_data)\n",
    "    \n",
    "        class_logits = self.fc_class(encoded_data)\n",
    "    \n",
    "        # 3) Reparameterize\n",
    "        z_sample = self.reparameterize(mean_val, log_variance)\n",
    "    \n",
    "        # 4) Decode\n",
    "        zy_input = torch.cat([z_sample, y], dim=1)\n",
    "        reconstruction = self.decoder(zy_input)\n",
    "    \n",
    "        return reconstruction, mean_val, log_variance, class_logits\n",
    "\n"
   ]
  },
  {
   "cell_type": "markdown",
   "metadata": {
    "id": "FKw9Lidzwn55"
   },
   "source": [
    "If you want to build helper functions, you can write the code in the below cell."
   ]
  },
  {
   "cell_type": "code",
   "execution_count": null,
   "metadata": {
    "id": "PHmq08N4w0Of",
    "trusted": true
   },
   "outputs": [],
   "source": []
  },
  {
   "cell_type": "markdown",
   "metadata": {
    "id": "IQMuHF9Yw3ZY"
   },
   "source": [
    "# Loss Function"
   ]
  },
  {
   "cell_type": "markdown",
   "metadata": {
    "id": "yFIwbGnuw9qH"
   },
   "source": [
    "Complete the cvae_loss function below"
   ]
  },
  {
   "cell_type": "code",
   "execution_count": 45,
   "metadata": {
    "execution": {
     "iopub.execute_input": "2025-01-26T14:39:00.420233Z",
     "iopub.status.busy": "2025-01-26T14:39:00.419909Z",
     "iopub.status.idle": "2025-01-26T14:39:00.425140Z",
     "shell.execute_reply": "2025-01-26T14:39:00.424284Z",
     "shell.execute_reply.started": "2025-01-26T14:39:00.420207Z"
    },
    "id": "5V181vOVxEHf",
    "trusted": true
   },
   "outputs": [],
   "source": [
    "\n",
    "def cvae_loss(recon, data, mu, logvar, class_logits, labels):\n",
    "    # TODO: Flatten the data tensor\n",
    "    flattened_data = data.view(data.size(0), -1)\n",
    "\n",
    "    # TODO: Implement the reconstruction loss\n",
    "    # Using binary cross-entropy between recon and the flattened input\n",
    "    reconstruction_loss = F.binary_cross_entropy(\n",
    "        recon, \n",
    "        flattened_data, \n",
    "        reduction='sum'\n",
    "    )\n",
    "\n",
    "    # TODO: Implement the KL divergence loss\n",
    "    # KL = -0.5 * sum(1 + logvar - mu^2 - exp(logvar))\n",
    "    kl_divergence = -0.5 * torch.sum(1 + logvar - mu.pow(2) - logvar.exp())\n",
    "\n",
    "    # TODO: Implement the cross-entropy loss for class prediction\n",
    "    # class_logits is of shape [batch_size, num_classes]\n",
    "    classification_loss = F.cross_entropy(\n",
    "        class_logits, \n",
    "        labels, \n",
    "        reduction='sum'\n",
    "    )\n",
    "\n",
    "    # TODO: Return the total loss as the sum of reconstruction,\n",
    "    #       KL divergence, and cross-entropy losses\n",
    "    total_loss = reconstruction_loss + kl_divergence + classification_loss\n",
    "    return total_loss\n"
   ]
  },
  {
   "cell_type": "markdown",
   "metadata": {
    "id": "bUzKyFI9kp8i"
   },
   "source": [
    "## Train model\n",
    "\n",
    "Using the same training script, let's now train our CVAE!\n",
    "\n"
   ]
  },
  {
   "cell_type": "code",
   "execution_count": 46,
   "metadata": {
    "execution": {
     "iopub.execute_input": "2025-01-26T14:39:02.826007Z",
     "iopub.status.busy": "2025-01-26T14:39:02.825644Z",
     "iopub.status.idle": "2025-01-26T14:41:35.697871Z",
     "shell.execute_reply": "2025-01-26T14:41:35.696677Z",
     "shell.execute_reply.started": "2025-01-26T14:39:02.825966Z"
    },
    "id": "N1dzKDUsunbD",
    "trusted": true
   },
   "outputs": [
    {
     "name": "stdout",
     "output_type": "stream",
     "text": [
      "\n",
      "=============================================\n",
      "CVAE-MLP Epoch [1/30], Loss: 17392.62757703993\n",
      "\n",
      "=============================================\n",
      "CVAE-MLP Epoch [2/30], Loss: 14138.000154413729\n",
      "\n",
      "=============================================\n",
      "CVAE-MLP Epoch [3/30], Loss: 13646.540665064103\n",
      "\n",
      "=============================================\n",
      "CVAE-MLP Epoch [4/30], Loss: 13363.295758630475\n",
      "\n",
      "=============================================\n",
      "CVAE-MLP Epoch [5/30], Loss: 13177.165802784455\n",
      "\n",
      "=============================================\n",
      "CVAE-MLP Epoch [6/30], Loss: 13036.728523971688\n",
      "\n",
      "=============================================\n",
      "CVAE-MLP Epoch [7/30], Loss: 12929.059228098291\n",
      "\n",
      "=============================================\n",
      "CVAE-MLP Epoch [8/30], Loss: 12839.101159772303\n",
      "\n",
      "=============================================\n",
      "CVAE-MLP Epoch [9/30], Loss: 12748.691132895967\n",
      "\n",
      "=============================================\n",
      "CVAE-MLP Epoch [10/30], Loss: 12689.839036207934\n",
      "\n",
      "=============================================\n",
      "CVAE-MLP Epoch [11/30], Loss: 12626.318396935096\n",
      "\n",
      "=============================================\n",
      "CVAE-MLP Epoch [12/30], Loss: 12579.10294387687\n",
      "\n",
      "=============================================\n",
      "CVAE-MLP Epoch [13/30], Loss: 12521.180624415732\n",
      "\n",
      "=============================================\n",
      "CVAE-MLP Epoch [14/30], Loss: 12486.58658228165\n",
      "\n",
      "=============================================\n",
      "CVAE-MLP Epoch [15/30], Loss: 12445.111096504406\n",
      "\n",
      "=============================================\n",
      "CVAE-MLP Epoch [16/30], Loss: 12414.345481937768\n",
      "\n",
      "=============================================\n",
      "CVAE-MLP Epoch [17/30], Loss: 12377.26714201055\n",
      "\n",
      "=============================================\n",
      "CVAE-MLP Epoch [18/30], Loss: 12350.955184545272\n",
      "\n",
      "=============================================\n",
      "CVAE-MLP Epoch [19/30], Loss: 12314.95953525641\n",
      "\n",
      "=============================================\n",
      "CVAE-MLP Epoch [20/30], Loss: 12293.381652310363\n",
      "\n",
      "=============================================\n",
      "CVAE-MLP Epoch [21/30], Loss: 12267.715357071314\n",
      "\n",
      "=============================================\n",
      "CVAE-MLP Epoch [22/30], Loss: 12233.835576505742\n",
      "\n",
      "=============================================\n",
      "CVAE-MLP Epoch [23/30], Loss: 12215.48013696915\n",
      "\n",
      "=============================================\n",
      "CVAE-MLP Epoch [24/30], Loss: 12198.24396534455\n",
      "\n",
      "=============================================\n",
      "CVAE-MLP Epoch [25/30], Loss: 12176.244013338008\n",
      "\n",
      "=============================================\n",
      "CVAE-MLP Epoch [26/30], Loss: 12156.130362747062\n",
      "\n",
      "=============================================\n",
      "CVAE-MLP Epoch [27/30], Loss: 12131.002593733307\n",
      "\n",
      "=============================================\n",
      "CVAE-MLP Epoch [28/30], Loss: 12118.804904513889\n",
      "\n",
      "=============================================\n",
      "CVAE-MLP Epoch [29/30], Loss: 12100.302880442041\n",
      "\n",
      "=============================================\n",
      "CVAE-MLP Epoch [30/30], Loss: 12081.01307926015\n"
     ]
    }
   ],
   "source": [
    "\n",
    "def train_cvae_mlp(model, train_loader, num_epochs=30, learning_rate=1e-3):\n",
    "    model.train()\n",
    "    optimizer = optim.Adam(model.parameters(), lr=learning_rate)\n",
    "    device = torch.device('cuda' if torch.cuda.is_available() else 'cpu')\n",
    "    \n",
    "    model.to(device)\n",
    "    \n",
    "    for epoch in range(num_epochs):\n",
    "        print()\n",
    "        print(45 * \"=\")\n",
    "        total_loss = []\n",
    "        for batch_idx, (data, labels) in enumerate(train_loader):\n",
    "            # One-hot encode the labels\n",
    "            data = data.to(device)\n",
    "            labels = labels.to(device)\n",
    "            y_onehot = torch.zeros(labels.size(0), 10, device=device)\n",
    "            y_onehot.scatter_(1, labels.view(-1, 1), 1)\n",
    "\n",
    "            # TODO: Forward pass through the model and calculate the loss using cvae_loss\n",
    "            # Assuming your CVAE forward returns: recon, mu, logvar, class_logits\n",
    "            recon, mu, logvar, class_logits = model(data, y_onehot)\n",
    "            loss = cvae_loss(recon, data, mu, logvar, class_logits, labels)  # Fill in your cvae_loss\n",
    "\n",
    "            # TODO: Backpropagation and optimization step\n",
    "            optimizer.zero_grad()\n",
    "            loss.backward()\n",
    "            optimizer.step()\n",
    "\n",
    "            total_loss.append(loss.item())\n",
    "\n",
    "        avg_loss = float(sum(total_loss) / len(total_loss))\n",
    "        print(f'CVAE-MLP Epoch [{epoch+1}/{num_epochs}], Loss: {avg_loss}')  # Preserving print statement\n",
    "\n",
    "# TODO: Train CVAE\n",
    "latent_size = 30\n",
    "device = torch.device('cuda' if torch.cuda.is_available() else 'cpu')\n",
    "\n",
    "# Example MNIST dataset and DataLoader\n",
    "batch_size = 128\n",
    "mnist_train = datasets.MNIST('./MNIST_data', train=True, download=True, transform=T.ToTensor())\n",
    "loader_train = DataLoader(mnist_train, batch_size=batch_size, shuffle=True, drop_last=True, num_workers=2)\n",
    "\n",
    "# Example initialization and training of the CVAE\n",
    "CVAE = CVAE_MLP(input_dim=28*28, hidden_dim=512, latent_dim=latent_size, num_classes=10, device=device)\n",
    "train_cvae_mlp(CVAE, loader_train)\n"
   ]
  },
  {
   "cell_type": "markdown",
   "metadata": {
    "id": "GMAyFBZTkr1Y"
   },
   "source": [
    "## Visualize Results\n",
    "\n",
    "You've trained your CVAE, now let's conditionally generate some new data! This time, we can specify the class we want to generate by adding our one hot matrix of class labels. We use `torch.eye` to create an identity matrix, which effectively gives us one label for each digit. When you run the cell below, you should get one example per digit. Each digit should be reasonably distinguishable (it is ok to run this cell a few times to save your best results).\n",
    "\n"
   ]
  },
  {
   "cell_type": "code",
   "execution_count": 60,
   "metadata": {
    "execution": {
     "iopub.execute_input": "2025-01-26T14:42:57.124680Z",
     "iopub.status.busy": "2025-01-26T14:42:57.124328Z",
     "iopub.status.idle": "2025-01-26T14:42:57.365485Z",
     "shell.execute_reply": "2025-01-26T14:42:57.364513Z",
     "shell.execute_reply.started": "2025-01-26T14:42:57.124655Z"
    },
    "id": "GCfwpz0NALdZ",
    "trusted": true
   },
   "outputs": [
    {
     "data": {
      "image/png": "[encoded data removed]",
      "text/plain": [
       "<Figure size 1000x100 with 10 Axes>"
      ]
     },
     "metadata": {},
     "output_type": "display_data"
    }
   ],
   "source": [
    "num_samples = 10\n",
    "z = torch.randn(num_samples, latent_size)\n",
    "\n",
    "c = torch.eye(num_samples, 10)\n",
    "\n",
    "z = torch.cat((z,c), dim=-1).to(device='cuda')\n",
    "CVAE.eval()\n",
    "samples = CVAE.decoder(z).data.cpu().numpy()\n",
    "\n",
    "fig = plt.figure(figsize=(num_samples, 1))\n",
    "gspec = gridspec.GridSpec(1, num_samples)\n",
    "gspec.update(wspace=0.05, hspace=0.05)\n",
    "for i, sample in enumerate(samples):\n",
    "    ax = plt.subplot(gspec[i])\n",
    "    if i == 4:\n",
    "      plt.title('Generated Samples of CVAE')\n",
    "    plt.axis('off')\n",
    "    ax.set_xticklabels([])\n",
    "    ax.set_yticklabels([])\n",
    "    ax.set_aspect('equal')\n",
    "    plt.imshow(sample.reshape(28, 28), cmap='Greys_r')"
   ]
  }
 ],
 "metadata": {
  "accelerator": "GPU",
  "colab": {
   "gpuType": "T4",
   "provenance": []
  },
  "kaggle": {
   "accelerator": "gpu",
   "dataSources": [],
   "dockerImageVersionId": 30840,
   "isGpuEnabled": true,
   "isInternetEnabled": true,
   "language": "python",
   "sourceType": "notebook"
  },
  "kernelspec": {
   "display_name": "Python 3",
   "language": "python",
   "name": "python3"
  },
  "language_info": {
   "codemirror_mode": {
    "name": "ipython",
    "version": 3
   },
   "file_extension": ".py",
   "mimetype": "text/x-python",
   "name": "python",
   "nbconvert_exporter": "python",
   "pygments_lexer": "ipython3",
   "version": "3.10.12"
  }
 },
 "nbformat": 4,
 "nbformat_minor": 4
}
